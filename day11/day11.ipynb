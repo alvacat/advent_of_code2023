{
 "cells": [
  {
   "cell_type": "code",
   "execution_count": 62,
   "metadata": {},
   "outputs": [],
   "source": [
    "import numpy as np"
   ]
  },
  {
   "cell_type": "code",
   "execution_count": 80,
   "metadata": {},
   "outputs": [],
   "source": [
    "h = open('input.txt','r')\n",
    "universe=[]\n",
    "for line in h:\n",
    "    current_line = []\n",
    "    for character in line:\n",
    "        if character!='\\n':\n",
    "            current_line.append(character)\n",
    "    universe.append(current_line)\n",
    "universe = np.array(universe)"
   ]
  },
  {
   "cell_type": "code",
   "execution_count": 81,
   "metadata": {},
   "outputs": [
    {
     "data": {
      "text/plain": [
       "(140, 140)"
      ]
     },
     "execution_count": 81,
     "metadata": {},
     "output_type": "execute_result"
    }
   ],
   "source": [
    "universe.shape"
   ]
  },
  {
   "cell_type": "code",
   "execution_count": 82,
   "metadata": {},
   "outputs": [],
   "source": [
    "def test_a_row(row_num):\n",
    "    row = universe[row_num]\n",
    "    all_space = True\n",
    "    for x in row:\n",
    "        if x!='.':\n",
    "            all_space=False\n",
    "    return all_space\n",
    "\n",
    "def test_a_column(col_num):\n",
    "    all_space = True\n",
    "    for row in range(universe.shape[1]):\n",
    "        if universe[row][col_num] != '.':\n",
    "            all_space = False\n",
    "    return all_space"
   ]
  },
  {
   "cell_type": "code",
   "execution_count": 83,
   "metadata": {},
   "outputs": [],
   "source": [
    "rows_to_expand = []\n",
    "cols_to_expand = []\n",
    "for row_num in range(universe.shape[0]):\n",
    "    if test_a_row(row_num):\n",
    "        rows_to_expand.append(row_num)\n",
    "\n",
    "for col_num in range(universe.shape[1]):\n",
    "    if test_a_column(col_num):\n",
    "        cols_to_expand.append(col_num)"
   ]
  },
  {
   "cell_type": "code",
   "execution_count": 84,
   "metadata": {},
   "outputs": [
    {
     "data": {
      "text/plain": [
       "[3, 27, 49, 70, 71, 104]"
      ]
     },
     "execution_count": 84,
     "metadata": {},
     "output_type": "execute_result"
    }
   ],
   "source": [
    "rows_to_expand"
   ]
  },
  {
   "cell_type": "code",
   "execution_count": 85,
   "metadata": {},
   "outputs": [
    {
     "data": {
      "text/plain": [
       "[40, 52, 58]"
      ]
     },
     "execution_count": 85,
     "metadata": {},
     "output_type": "execute_result"
    }
   ],
   "source": [
    "cols_to_expand"
   ]
  },
  {
   "cell_type": "code",
   "execution_count": 86,
   "metadata": {},
   "outputs": [],
   "source": [
    "expanded_universe_rows = []\n",
    "for row_num in range(universe.shape[0]):\n",
    "    row = universe[row_num]\n",
    "    expanded_universe_rows.append(row)\n",
    "    if row_num in rows_to_expand:\n",
    "        expanded_universe_rows.append(row)\n",
    "expanded_universe_rows = np.array(expanded_universe_rows)\n",
    "\n",
    "expanded_universe = []\n",
    "for row_num in range(expanded_universe_rows.shape[0]):\n",
    "    expanded_row = []\n",
    "    old_row = expanded_universe_rows[row_num]\n",
    "    for i in range(len(old_row)):\n",
    "        thing = old_row[i]\n",
    "        expanded_row.append(thing)\n",
    "        if i in cols_to_expand:\n",
    "            expanded_row.append(thing)\n",
    "    expanded_universe.append(expanded_row)\n",
    "expanded_universe = np.array(expanded_universe)        "
   ]
  },
  {
   "cell_type": "code",
   "execution_count": 87,
   "metadata": {},
   "outputs": [
    {
     "data": {
      "text/plain": [
       "(146, 143)"
      ]
     },
     "execution_count": 87,
     "metadata": {},
     "output_type": "execute_result"
    }
   ],
   "source": [
    "expanded_universe.shape"
   ]
  },
  {
   "cell_type": "code",
   "execution_count": 88,
   "metadata": {},
   "outputs": [],
   "source": [
    "galaxies = np.where(expanded_universe == '#')"
   ]
  },
  {
   "cell_type": "code",
   "execution_count": 89,
   "metadata": {},
   "outputs": [
    {
     "data": {
      "text/plain": [
       "(0, 90)"
      ]
     },
     "execution_count": 89,
     "metadata": {},
     "output_type": "execute_result"
    }
   ],
   "source": [
    "galaxies[0][0], galaxies[1][0]"
   ]
  },
  {
   "cell_type": "code",
   "execution_count": 90,
   "metadata": {},
   "outputs": [],
   "source": [
    "points = []\n",
    "for i in range(len(galaxies[0])):\n",
    "    row = galaxies[0][i]\n",
    "    col = galaxies[1][i]\n",
    "    points.append((row,col))"
   ]
  },
  {
   "cell_type": "code",
   "execution_count": 74,
   "metadata": {},
   "outputs": [
    {
     "data": {
      "text/plain": [
       "'#'"
      ]
     },
     "execution_count": 74,
     "metadata": {},
     "output_type": "execute_result"
    }
   ],
   "source": [
    "expanded_universe[points[0]]"
   ]
  },
  {
   "cell_type": "code",
   "execution_count": 75,
   "metadata": {},
   "outputs": [],
   "source": [
    "def distance(point1,point2):\n",
    "    delta_y = abs(point2[1]-point1[1])\n",
    "    delta_x = abs(point2[0]-point1[0])\n",
    "    return delta_x+delta_y"
   ]
  },
  {
   "cell_type": "code",
   "execution_count": 76,
   "metadata": {},
   "outputs": [
    {
     "data": {
      "text/plain": [
       "20980124"
      ]
     },
     "execution_count": 76,
     "metadata": {},
     "output_type": "execute_result"
    }
   ],
   "source": [
    "all_distances = 0\n",
    "for point1 in points:\n",
    "    for point2 in points:\n",
    "        if point1!=point2:\n",
    "            all_distances+=distance(point1,point2)\n",
    "all_distances"
   ]
  },
  {
   "cell_type": "code",
   "execution_count": 77,
   "metadata": {},
   "outputs": [
    {
     "data": {
      "text/plain": [
       "10490062"
      ]
     },
     "execution_count": 77,
     "metadata": {},
     "output_type": "execute_result"
    }
   ],
   "source": [
    "int(all_distances/2)"
   ]
  },
  {
   "cell_type": "code",
   "execution_count": 17,
   "metadata": {},
   "outputs": [
    {
     "name": "stderr",
     "output_type": "stream",
     "text": [
      "100%|██████████| 140/140 [00:00<00:00, 246.86it/s]\n"
     ]
    }
   ],
   "source": [
    "# part 2\n",
    "from tqdm import tqdm\n",
    "\n",
    "expansion_factor = 1000000\n",
    "\n",
    "expanded_universe_rows = []\n",
    "for row_num in tqdm(range(universe.shape[0])):\n",
    "    row = universe[row_num]\n",
    "    expanded_universe_rows.append(row)\n",
    "    if row_num in rows_to_expand:\n",
    "        i=0\n",
    "        while i<expansion_factor:\n",
    "            expanded_universe_rows.append(row)\n",
    "            i+=1\n",
    "expanded_universe_rows = np.array(expanded_universe_rows)  "
   ]
  },
  {
   "cell_type": "code",
   "execution_count": 18,
   "metadata": {},
   "outputs": [],
   "source": [
    "transposed_universe = expanded_universe_rows.transpose()"
   ]
  },
  {
   "cell_type": "code",
   "execution_count": 19,
   "metadata": {},
   "outputs": [
    {
     "data": {
      "text/plain": [
       "(6000140, 140)"
      ]
     },
     "execution_count": 19,
     "metadata": {},
     "output_type": "execute_result"
    }
   ],
   "source": [
    "expanded_universe_rows.shape"
   ]
  },
  {
   "cell_type": "code",
   "execution_count": 20,
   "metadata": {},
   "outputs": [
    {
     "data": {
      "text/plain": [
       "(140, 6000140)"
      ]
     },
     "execution_count": 20,
     "metadata": {},
     "output_type": "execute_result"
    }
   ],
   "source": [
    "transposed_universe.shape"
   ]
  },
  {
   "cell_type": "code",
   "execution_count": 21,
   "metadata": {},
   "outputs": [
    {
     "name": "stderr",
     "output_type": "stream",
     "text": [
      "  0%|          | 0/140 [00:00<?, ?it/s]"
     ]
    },
    {
     "name": "stdout",
     "output_type": "stream",
     "text": [
      "40\n"
     ]
    },
    {
     "name": "stderr",
     "output_type": "stream",
     "text": [
      "100%|██████████| 999999/999999 [00:00<00:00, 5345985.45it/s]\n",
      " 29%|██▉       | 41/140 [00:00<00:00, 217.37it/s]"
     ]
    },
    {
     "name": "stdout",
     "output_type": "stream",
     "text": [
      "52\n"
     ]
    },
    {
     "name": "stderr",
     "output_type": "stream",
     "text": [
      "100%|██████████| 999999/999999 [00:00<00:00, 6301115.62it/s]\n"
     ]
    },
    {
     "name": "stdout",
     "output_type": "stream",
     "text": [
      "58\n"
     ]
    },
    {
     "name": "stderr",
     "output_type": "stream",
     "text": [
      "100%|██████████| 999999/999999 [00:00<00:00, 6375711.11it/s]\n",
      "100%|██████████| 140/140 [00:00<00:00, 275.51it/s]"
     ]
    },
    {
     "name": "stdout",
     "output_type": "stream",
     "text": [
      "done with loop\n"
     ]
    },
    {
     "name": "stderr",
     "output_type": "stream",
     "text": [
      "\n"
     ]
    }
   ],
   "source": [
    "expanded_universe = []\n",
    "for row_num in tqdm(range(transposed_universe.shape[0])):\n",
    "    row = transposed_universe[row_num]\n",
    "    expanded_universe.append(row)\n",
    "    if row_num in cols_to_expand:\n",
    "        print(row_num)\n",
    "        for i in tqdm(range(expansion_factor-1)):\n",
    "            expanded_universe.append(row)\n",
    "print('done with loop')"
   ]
  },
  {
   "cell_type": "code",
   "execution_count": 22,
   "metadata": {},
   "outputs": [
    {
     "data": {
      "text/plain": [
       "(3000137, 6000140)"
      ]
     },
     "execution_count": 22,
     "metadata": {},
     "output_type": "execute_result"
    }
   ],
   "source": [
    "len(expanded_universe), len(expanded_universe[0])"
   ]
  },
  {
   "cell_type": "code",
   "execution_count": null,
   "metadata": {},
   "outputs": [],
   "source": [
    "np_expanded_universe = np.array(expanded_universe)  "
   ]
  },
  {
   "cell_type": "code",
   "execution_count": 91,
   "metadata": {},
   "outputs": [],
   "source": [
    "galaxies = np.where(universe == '#')\n",
    "\n",
    "starting_points = []\n",
    "for i in range(len(galaxies[0])):\n",
    "    row = galaxies[0][i]\n",
    "    col = galaxies[1][i]\n",
    "    starting_points.append((row,col))"
   ]
  },
  {
   "cell_type": "code",
   "execution_count": 95,
   "metadata": {},
   "outputs": [
    {
     "data": {
      "text/plain": [
       "[3, 27, 49, 70, 71, 104]"
      ]
     },
     "execution_count": 95,
     "metadata": {},
     "output_type": "execute_result"
    }
   ],
   "source": [
    "rows_to_expand"
   ]
  },
  {
   "cell_type": "code",
   "execution_count": 96,
   "metadata": {},
   "outputs": [
    {
     "data": {
      "text/plain": [
       "[40, 52, 58]"
      ]
     },
     "execution_count": 96,
     "metadata": {},
     "output_type": "execute_result"
    }
   ],
   "source": [
    "cols_to_expand"
   ]
  },
  {
   "cell_type": "code",
   "execution_count": 130,
   "metadata": {},
   "outputs": [],
   "source": [
    "expansion_factor = 1000000\n",
    "\n",
    "new_points = []\n",
    "for point in starting_points:\n",
    "    row_idx = point[0]\n",
    "    col_idx = point[1]\n",
    "    \n",
    "    num_expansion_rows = 0\n",
    "    for row in rows_to_expand:\n",
    "        if row <= row_idx:\n",
    "            num_expansion_rows += 1\n",
    "    \n",
    "    row_idx = row_idx + (expansion_factor-1)*num_expansion_rows\n",
    "\n",
    "    num_expansion_cols = 0\n",
    "    for col in cols_to_expand:\n",
    "        if col <= col_idx:\n",
    "            num_expansion_cols += 1\n",
    "    \n",
    "    col_idx = col_idx + (expansion_factor-1)*num_expansion_cols\n",
    "\n",
    "    new_points.append((row_idx,col_idx))"
   ]
  },
  {
   "cell_type": "code",
   "execution_count": 132,
   "metadata": {},
   "outputs": [
    {
     "data": {
      "text/plain": [
       "382979724122"
      ]
     },
     "execution_count": 132,
     "metadata": {},
     "output_type": "execute_result"
    }
   ],
   "source": [
    "all_distances = 0\n",
    "for point1 in new_points:\n",
    "    for point2 in new_points:\n",
    "        #if point1!=point2:\n",
    "        dist = distance(point1,point2)\n",
    "        all_distances+=dist\n",
    "int(all_distances/2)"
   ]
  },
  {
   "cell_type": "code",
   "execution_count": null,
   "metadata": {},
   "outputs": [],
   "source": [
    "10490062"
   ]
  }
 ],
 "metadata": {
  "kernelspec": {
   "display_name": "Python 3",
   "language": "python",
   "name": "python3"
  },
  "language_info": {
   "codemirror_mode": {
    "name": "ipython",
    "version": 3
   },
   "file_extension": ".py",
   "mimetype": "text/x-python",
   "name": "python",
   "nbconvert_exporter": "python",
   "pygments_lexer": "ipython3",
   "version": "3.9.6"
  }
 },
 "nbformat": 4,
 "nbformat_minor": 2
}

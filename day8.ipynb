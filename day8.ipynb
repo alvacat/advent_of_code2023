{
 "cells": [
  {
   "cell_type": "code",
   "execution_count": 1,
   "metadata": {},
   "outputs": [],
   "source": [
    "from tqdm import tqdm\n",
    "import math"
   ]
  },
  {
   "cell_type": "code",
   "execution_count": 2,
   "metadata": {},
   "outputs": [],
   "source": [
    "directions = 'LRLLRRRLRRLRRRLRLRRLLRRLRRLRRLRRRLLRRLRRLLLRRLLRRRLRRRLRRRLRLRRRLRRRLRLRLRRLRLRRRLRLRLRRRLLRRRLRLRRLLLRRRLLRRLLLRRRLRRLLRLRLRRRLRRLLRRLRRRLRRRLLRRRLLRRRLRRLRRLRLRRRLLLRRRLRRRLRLRRLRRLRRLRRLRRLRRRLRRRLRRLLRRLRRRLRLLRLLRRLLRRLRRRLRRRLRRRLRRRLRRLRRRLLRRLRRRLRRLRRRLRRLRRLRRLRRLRRLRLRRRR'"
   ]
  },
  {
   "cell_type": "code",
   "execution_count": 3,
   "metadata": {},
   "outputs": [],
   "source": [
    "h = open('input.txt','r')\n",
    "mappings = {}\n",
    "first_input = ''\n",
    "for line in h:\n",
    "    split_line = line.split(' = ')\n",
    "    key = split_line[0]\n",
    "    if first_input=='':\n",
    "        first_input=key    \n",
    "    value = split_line[1][:-1]\n",
    "    split_values = value.split(', ')\n",
    "    value_1 = split_values[0][1:]\n",
    "    value_2 = split_values[1].replace('\\n','').replace(')','')\n",
    "    mappings.update({key:(value_1,value_2)})"
   ]
  },
  {
   "cell_type": "code",
   "execution_count": 4,
   "metadata": {},
   "outputs": [
    {
     "data": {
      "text/plain": [
       "('TNL', 'TJD')"
      ]
     },
     "execution_count": 4,
     "metadata": {},
     "output_type": "execute_result"
    }
   ],
   "source": [
    "mappings['BNL']"
   ]
  },
  {
   "cell_type": "code",
   "execution_count": 5,
   "metadata": {},
   "outputs": [
    {
     "data": {
      "text/plain": [
       "'QRX'"
      ]
     },
     "execution_count": 5,
     "metadata": {},
     "output_type": "execute_result"
    }
   ],
   "source": [
    "first_input"
   ]
  },
  {
   "cell_type": "code",
   "execution_count": 6,
   "metadata": {},
   "outputs": [
    {
     "name": "stderr",
     "output_type": "stream",
     "text": [
      " 71%|███████   | 20092/28300 [00:00<00:00, 2893855.15it/s]"
     ]
    },
    {
     "name": "stdout",
     "output_type": "stream",
     "text": [
      "done in 20093 steps!\n"
     ]
    },
    {
     "name": "stderr",
     "output_type": "stream",
     "text": [
      "\n"
     ]
    }
   ],
   "source": [
    "current_input = 'AAA'\n",
    "step_counter = 0\n",
    "\n",
    "for direction in tqdm(directions*100):\n",
    "    #print(current_input,direction)\n",
    "    if direction == 'L':\n",
    "        output = mappings[current_input][0]\n",
    "    else:\n",
    "        output = mappings[current_input][1]\n",
    "    current_input = output\n",
    "    step_counter +=1\n",
    "    if current_input == 'ZZZ':\n",
    "        print(f'done in {step_counter} steps!')\n",
    "        break"
   ]
  },
  {
   "cell_type": "markdown",
   "metadata": {},
   "source": [
    "# Part 2"
   ]
  },
  {
   "cell_type": "code",
   "execution_count": 7,
   "metadata": {},
   "outputs": [],
   "source": [
    "starting_nodes = []\n",
    "for key in mappings.keys():\n",
    "    if key.endswith('A'):\n",
    "        starting_nodes.append(key) "
   ]
  },
  {
   "cell_type": "code",
   "execution_count": 8,
   "metadata": {},
   "outputs": [
    {
     "data": {
      "text/plain": [
       "['VGA', 'AAA', 'LHA', 'RHA', 'CVA', 'LDA']"
      ]
     },
     "execution_count": 8,
     "metadata": {},
     "output_type": "execute_result"
    }
   ],
   "source": [
    "starting_nodes"
   ]
  },
  {
   "cell_type": "code",
   "execution_count": 9,
   "metadata": {},
   "outputs": [],
   "source": [
    "def find_steps_to_last_z(starting_value):\n",
    "    current_nodes = [starting_value]\n",
    "    step_counter = 0\n",
    "    for direction in tqdm(directions*100):\n",
    "        outputs = []\n",
    "        num_zs = 0\n",
    "        for node in current_nodes:\n",
    "            if direction == 'L':\n",
    "                output = mappings[node][0]\n",
    "            else:\n",
    "                output = mappings[node][1]\n",
    "            \n",
    "            outputs.append(output)\n",
    "            \n",
    "            if output.endswith('Z'):\n",
    "                num_zs+=1\n",
    "\n",
    "        step_counter +=1\n",
    "        current_nodes = outputs\n",
    "\n",
    "        if num_zs == len(current_nodes):\n",
    "            return(step_counter)"
   ]
  },
  {
   "cell_type": "code",
   "execution_count": 10,
   "metadata": {},
   "outputs": [
    {
     "name": "stderr",
     "output_type": "stream",
     "text": [
      " 73%|███████▎  | 20658/28300 [00:00<00:00, 2517679.27it/s]\n",
      " 71%|███████   | 20092/28300 [00:00<00:00, 2477712.45it/s]\n",
      " 53%|█████▎    | 14998/28300 [00:00<00:00, 2346369.69it/s]\n",
      " 61%|██████    | 17262/28300 [00:00<00:00, 2479523.14it/s]\n",
      " 79%|███████▉  | 22356/28300 [00:00<00:00, 2385222.33it/s]\n",
      " 59%|█████▉    | 16696/28300 [00:00<00:00, 2500557.03it/s]\n"
     ]
    }
   ],
   "source": [
    "all_steps = []\n",
    "for node in starting_nodes:\n",
    "    num_steps_to_z = find_steps_to_last_z(node)\n",
    "    all_steps.append(num_steps_to_z)"
   ]
  },
  {
   "cell_type": "code",
   "execution_count": 11,
   "metadata": {},
   "outputs": [
    {
     "data": {
      "text/plain": [
       "22103062509257"
      ]
     },
     "execution_count": 11,
     "metadata": {},
     "output_type": "execute_result"
    }
   ],
   "source": [
    "math.lcm(all_steps[0],all_steps[1],all_steps[2],all_steps[3],all_steps[4],all_steps[5])"
   ]
  },
  {
   "cell_type": "code",
   "execution_count": null,
   "metadata": {},
   "outputs": [],
   "source": []
  }
 ],
 "metadata": {
  "kernelspec": {
   "display_name": "Python 3",
   "language": "python",
   "name": "python3"
  },
  "language_info": {
   "codemirror_mode": {
    "name": "ipython",
    "version": 3
   },
   "file_extension": ".py",
   "mimetype": "text/x-python",
   "name": "python",
   "nbconvert_exporter": "python",
   "pygments_lexer": "ipython3",
   "version": "3.9.6"
  }
 },
 "nbformat": 4,
 "nbformat_minor": 2
}

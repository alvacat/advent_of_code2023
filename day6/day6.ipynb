{
 "cells": [
  {
   "cell_type": "code",
   "execution_count": 2,
   "metadata": {},
   "outputs": [],
   "source": [
    "import math"
   ]
  },
  {
   "cell_type": "code",
   "execution_count": 5,
   "metadata": {},
   "outputs": [
    {
     "data": {
      "text/plain": [
       "4"
      ]
     },
     "execution_count": 5,
     "metadata": {},
     "output_type": "execute_result"
    }
   ],
   "source": [
    "time = 7\n",
    "distance = 9\n",
    "\n",
    "lower_bound = (time - math.sqrt(time**2-4*distance))/2\n",
    "upper_bound = (time + math.sqrt(time**2-4*distance))/2\n",
    "\n",
    "lower_ceiling = math.ceil(lower_bound)\n",
    "upper_floor = math.floor(upper_bound)\n",
    "\n",
    "distance_betwee_floor_and_ceiling = upper_floor - lower_ceiling\n",
    "num_ways_to_win = distance_betwee_floor_and_ceiling + 1\n",
    "\n",
    "num_ways_to_win"
   ]
  },
  {
   "cell_type": "code",
   "execution_count": 6,
   "metadata": {},
   "outputs": [],
   "source": [
    "def num_ways_to_win(time,distance):\n",
    "    lower_bound = (time - math.sqrt(time**2-4*distance))/2\n",
    "    upper_bound = (time + math.sqrt(time**2-4*distance))/2\n",
    "\n",
    "    lower_ceiling = math.ceil(lower_bound)\n",
    "    upper_floor = math.floor(upper_bound)\n",
    "\n",
    "    distance_betwee_floor_and_ceiling = upper_floor - lower_ceiling\n",
    "    num_ways_to_win = distance_betwee_floor_and_ceiling + 1\n",
    "\n",
    "    return num_ways_to_win"
   ]
  },
  {
   "cell_type": "code",
   "execution_count": 7,
   "metadata": {},
   "outputs": [],
   "source": [
    "times = [62,64,91,90]\n",
    "distances = [553,1010,1473,1074]"
   ]
  },
  {
   "cell_type": "code",
   "execution_count": 9,
   "metadata": {},
   "outputs": [
    {
     "name": "stdout",
     "output_type": "stream",
     "text": [
      "840336\n"
     ]
    }
   ],
   "source": [
    "i = 0\n",
    "product_of_ways_to_win = 1\n",
    "while i < len(times):\n",
    "    num_ways = num_ways_to_win(times[i],distances[i])\n",
    "    product_of_ways_to_win*=num_ways\n",
    "    i+=1\n",
    "print(product_of_ways_to_win)"
   ]
  },
  {
   "cell_type": "code",
   "execution_count": 11,
   "metadata": {},
   "outputs": [
    {
     "data": {
      "text/plain": [
       "41382569"
      ]
     },
     "execution_count": 11,
     "metadata": {},
     "output_type": "execute_result"
    }
   ],
   "source": [
    "# part 2\n",
    "new_time = 62649190\n",
    "new_distance = 553101014731074\n",
    "\n",
    "num_ways_to_win(new_time,new_distance)"
   ]
  },
  {
   "cell_type": "code",
   "execution_count": null,
   "metadata": {},
   "outputs": [],
   "source": []
  }
 ],
 "metadata": {
  "kernelspec": {
   "display_name": "Python 3",
   "language": "python",
   "name": "python3"
  },
  "language_info": {
   "codemirror_mode": {
    "name": "ipython",
    "version": 3
   },
   "file_extension": ".py",
   "mimetype": "text/x-python",
   "name": "python",
   "nbconvert_exporter": "python",
   "pygments_lexer": "ipython3",
   "version": "3.9.6"
  }
 },
 "nbformat": 4,
 "nbformat_minor": 2
}

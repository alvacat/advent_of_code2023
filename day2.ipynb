{
 "cells": [
  {
   "cell_type": "code",
   "execution_count": 23,
   "metadata": {},
   "outputs": [],
   "source": [
    "import pandas as pd"
   ]
  },
  {
   "cell_type": "code",
   "execution_count": 17,
   "metadata": {},
   "outputs": [],
   "source": [
    "def get_game_number(game_line):\n",
    "    game_line = game_line.replace('Game ','')\n",
    "    game_line = game_line.replace(':','')\n",
    "    game_number = int(game_line)\n",
    "    return game_number\n",
    "\n",
    "def find_color(color,cube_line):\n",
    "    all_of_that_color = []\n",
    "    for cube in cube_line:\n",
    "        number_of_that_color = ''\n",
    "        if color in cube:\n",
    "            cube.replace(color,'')\n",
    "            for x in cube:\n",
    "                if x.isnumeric():\n",
    "                    number_of_that_color+=x\n",
    "        if number_of_that_color!='':\n",
    "            all_of_that_color.append(int(number_of_that_color))\n",
    "    return all_of_that_color"
   ]
  },
  {
   "cell_type": "code",
   "execution_count": 21,
   "metadata": {},
   "outputs": [],
   "source": [
    "h = open('input.txt','r')\n",
    "games = []\n",
    "for line in h:\n",
    "    split_line = line.split(':')\n",
    "    game_side = split_line[0]\n",
    "    game_number = get_game_number(game_side)\n",
    "    cube_line = split_line[1]\n",
    "    cube_list = cube_line.split(';')\n",
    "    all_cube_list = []\n",
    "    for x in cube_list:\n",
    "        one_game = x.split(',')\n",
    "        all_cube_list+=one_game\n",
    "    reds = find_color('red',all_cube_list)\n",
    "    greens = find_color('green',all_cube_list)   \n",
    "    blues = find_color('blue',all_cube_list)\n",
    "    games.append({'id':game_number,'reds':reds,'blues':blues,'greens':greens})      "
   ]
  },
  {
   "cell_type": "code",
   "execution_count": 24,
   "metadata": {},
   "outputs": [],
   "source": [
    "games_df = pd.DataFrame(games)"
   ]
  },
  {
   "cell_type": "code",
   "execution_count": 25,
   "metadata": {},
   "outputs": [
    {
     "data": {
      "text/html": [
       "<div>\n",
       "<style scoped>\n",
       "    .dataframe tbody tr th:only-of-type {\n",
       "        vertical-align: middle;\n",
       "    }\n",
       "\n",
       "    .dataframe tbody tr th {\n",
       "        vertical-align: top;\n",
       "    }\n",
       "\n",
       "    .dataframe thead th {\n",
       "        text-align: right;\n",
       "    }\n",
       "</style>\n",
       "<table border=\"1\" class=\"dataframe\">\n",
       "  <thead>\n",
       "    <tr style=\"text-align: right;\">\n",
       "      <th></th>\n",
       "      <th>id</th>\n",
       "      <th>reds</th>\n",
       "      <th>blues</th>\n",
       "      <th>greens</th>\n",
       "    </tr>\n",
       "  </thead>\n",
       "  <tbody>\n",
       "    <tr>\n",
       "      <th>0</th>\n",
       "      <td>1</td>\n",
       "      <td>[18, 15, 17, 11, 18]</td>\n",
       "      <td>[7, 4, 6, 1, 14, 8]</td>\n",
       "      <td>[8, 1, 2, 5, 1]</td>\n",
       "    </tr>\n",
       "    <tr>\n",
       "      <th>1</th>\n",
       "      <td>2</td>\n",
       "      <td>[3, 2, 3]</td>\n",
       "      <td>[16, 13, 16]</td>\n",
       "      <td>[12, 8, 15]</td>\n",
       "    </tr>\n",
       "    <tr>\n",
       "      <th>2</th>\n",
       "      <td>3</td>\n",
       "      <td>[15, 4, 7]</td>\n",
       "      <td>[7, 9]</td>\n",
       "      <td>[6, 1, 8]</td>\n",
       "    </tr>\n",
       "    <tr>\n",
       "      <th>3</th>\n",
       "      <td>4</td>\n",
       "      <td>[8, 11, 12, 9]</td>\n",
       "      <td>[2, 5, 5, 1, 2]</td>\n",
       "      <td>[1, 1]</td>\n",
       "    </tr>\n",
       "    <tr>\n",
       "      <th>4</th>\n",
       "      <td>5</td>\n",
       "      <td>[3, 4, 5, 6, 6]</td>\n",
       "      <td>[9, 17, 15, 3, 4, 10]</td>\n",
       "      <td>[12, 3, 2, 5, 7, 3]</td>\n",
       "    </tr>\n",
       "    <tr>\n",
       "      <th>...</th>\n",
       "      <td>...</td>\n",
       "      <td>...</td>\n",
       "      <td>...</td>\n",
       "      <td>...</td>\n",
       "    </tr>\n",
       "    <tr>\n",
       "      <th>95</th>\n",
       "      <td>96</td>\n",
       "      <td>[12, 10, 14, 15, 3, 1]</td>\n",
       "      <td>[6, 1, 5]</td>\n",
       "      <td>[3, 2, 7, 3]</td>\n",
       "    </tr>\n",
       "    <tr>\n",
       "      <th>96</th>\n",
       "      <td>97</td>\n",
       "      <td>[3, 3, 4]</td>\n",
       "      <td>[1]</td>\n",
       "      <td>[1, 1, 1]</td>\n",
       "    </tr>\n",
       "    <tr>\n",
       "      <th>97</th>\n",
       "      <td>98</td>\n",
       "      <td>[4, 2, 11, 11]</td>\n",
       "      <td>[6, 6, 2, 4, 11]</td>\n",
       "      <td>[5, 9, 14, 6, 8]</td>\n",
       "    </tr>\n",
       "    <tr>\n",
       "      <th>98</th>\n",
       "      <td>99</td>\n",
       "      <td>[3, 2, 3]</td>\n",
       "      <td>[20, 12, 12, 7, 10]</td>\n",
       "      <td>[2, 3, 2]</td>\n",
       "    </tr>\n",
       "    <tr>\n",
       "      <th>99</th>\n",
       "      <td>100</td>\n",
       "      <td>[12, 13, 2, 7, 5]</td>\n",
       "      <td>[2, 1]</td>\n",
       "      <td>[8, 2, 4, 2, 10]</td>\n",
       "    </tr>\n",
       "  </tbody>\n",
       "</table>\n",
       "<p>100 rows × 4 columns</p>\n",
       "</div>"
      ],
      "text/plain": [
       "     id                    reds                  blues               greens\n",
       "0     1    [18, 15, 17, 11, 18]    [7, 4, 6, 1, 14, 8]      [8, 1, 2, 5, 1]\n",
       "1     2               [3, 2, 3]           [16, 13, 16]          [12, 8, 15]\n",
       "2     3              [15, 4, 7]                 [7, 9]            [6, 1, 8]\n",
       "3     4          [8, 11, 12, 9]        [2, 5, 5, 1, 2]               [1, 1]\n",
       "4     5         [3, 4, 5, 6, 6]  [9, 17, 15, 3, 4, 10]  [12, 3, 2, 5, 7, 3]\n",
       "..  ...                     ...                    ...                  ...\n",
       "95   96  [12, 10, 14, 15, 3, 1]              [6, 1, 5]         [3, 2, 7, 3]\n",
       "96   97               [3, 3, 4]                    [1]            [1, 1, 1]\n",
       "97   98          [4, 2, 11, 11]       [6, 6, 2, 4, 11]     [5, 9, 14, 6, 8]\n",
       "98   99               [3, 2, 3]    [20, 12, 12, 7, 10]            [2, 3, 2]\n",
       "99  100       [12, 13, 2, 7, 5]                 [2, 1]     [8, 2, 4, 2, 10]\n",
       "\n",
       "[100 rows x 4 columns]"
      ]
     },
     "execution_count": 25,
     "metadata": {},
     "output_type": "execute_result"
    }
   ],
   "source": [
    "games_df"
   ]
  },
  {
   "cell_type": "code",
   "execution_count": 37,
   "metadata": {},
   "outputs": [],
   "source": [
    "MAX_RED = 12\n",
    "MAX_GREEN = 13\n",
    "MAX_BLUE = 14"
   ]
  },
  {
   "cell_type": "code",
   "execution_count": 31,
   "metadata": {},
   "outputs": [],
   "source": [
    "def find_max(list_of_things):\n",
    "    return max(list_of_things)"
   ]
  },
  {
   "cell_type": "code",
   "execution_count": 34,
   "metadata": {},
   "outputs": [],
   "source": [
    "games_df['max_reds']=games_df['reds'].apply(find_max)\n",
    "games_df['max_blues']=games_df['blues'].apply(find_max)\n",
    "games_df['max_greens']=games_df['greens'].apply(find_max)"
   ]
  },
  {
   "cell_type": "code",
   "execution_count": 40,
   "metadata": {},
   "outputs": [],
   "source": [
    "possible_games = games_df.query('max_reds<=@MAX_RED and max_blues<=@MAX_BLUE and max_greens<=@MAX_GREEN').id.values"
   ]
  },
  {
   "cell_type": "code",
   "execution_count": 41,
   "metadata": {},
   "outputs": [
    {
     "data": {
      "text/plain": [
       "2331"
      ]
     },
     "execution_count": 41,
     "metadata": {},
     "output_type": "execute_result"
    }
   ],
   "source": [
    "possible_games.sum()"
   ]
  },
  {
   "cell_type": "markdown",
   "metadata": {},
   "source": [
    "# Part 2"
   ]
  },
  {
   "cell_type": "code",
   "execution_count": 43,
   "metadata": {},
   "outputs": [],
   "source": [
    "games_df['power']=games_df['max_reds']*games_df['max_blues']*games_df['max_greens']"
   ]
  },
  {
   "cell_type": "code",
   "execution_count": 44,
   "metadata": {},
   "outputs": [
    {
     "data": {
      "text/html": [
       "<div>\n",
       "<style scoped>\n",
       "    .dataframe tbody tr th:only-of-type {\n",
       "        vertical-align: middle;\n",
       "    }\n",
       "\n",
       "    .dataframe tbody tr th {\n",
       "        vertical-align: top;\n",
       "    }\n",
       "\n",
       "    .dataframe thead th {\n",
       "        text-align: right;\n",
       "    }\n",
       "</style>\n",
       "<table border=\"1\" class=\"dataframe\">\n",
       "  <thead>\n",
       "    <tr style=\"text-align: right;\">\n",
       "      <th></th>\n",
       "      <th>id</th>\n",
       "      <th>reds</th>\n",
       "      <th>blues</th>\n",
       "      <th>greens</th>\n",
       "      <th>max_reds</th>\n",
       "      <th>max_blues</th>\n",
       "      <th>max_greens</th>\n",
       "      <th>power</th>\n",
       "    </tr>\n",
       "  </thead>\n",
       "  <tbody>\n",
       "    <tr>\n",
       "      <th>0</th>\n",
       "      <td>1</td>\n",
       "      <td>[18, 15, 17, 11, 18]</td>\n",
       "      <td>[7, 4, 6, 1, 14, 8]</td>\n",
       "      <td>[8, 1, 2, 5, 1]</td>\n",
       "      <td>18</td>\n",
       "      <td>14</td>\n",
       "      <td>8</td>\n",
       "      <td>2016</td>\n",
       "    </tr>\n",
       "    <tr>\n",
       "      <th>1</th>\n",
       "      <td>2</td>\n",
       "      <td>[3, 2, 3]</td>\n",
       "      <td>[16, 13, 16]</td>\n",
       "      <td>[12, 8, 15]</td>\n",
       "      <td>3</td>\n",
       "      <td>16</td>\n",
       "      <td>15</td>\n",
       "      <td>720</td>\n",
       "    </tr>\n",
       "    <tr>\n",
       "      <th>2</th>\n",
       "      <td>3</td>\n",
       "      <td>[15, 4, 7]</td>\n",
       "      <td>[7, 9]</td>\n",
       "      <td>[6, 1, 8]</td>\n",
       "      <td>15</td>\n",
       "      <td>9</td>\n",
       "      <td>8</td>\n",
       "      <td>1080</td>\n",
       "    </tr>\n",
       "    <tr>\n",
       "      <th>3</th>\n",
       "      <td>4</td>\n",
       "      <td>[8, 11, 12, 9]</td>\n",
       "      <td>[2, 5, 5, 1, 2]</td>\n",
       "      <td>[1, 1]</td>\n",
       "      <td>12</td>\n",
       "      <td>5</td>\n",
       "      <td>1</td>\n",
       "      <td>60</td>\n",
       "    </tr>\n",
       "    <tr>\n",
       "      <th>4</th>\n",
       "      <td>5</td>\n",
       "      <td>[3, 4, 5, 6, 6]</td>\n",
       "      <td>[9, 17, 15, 3, 4, 10]</td>\n",
       "      <td>[12, 3, 2, 5, 7, 3]</td>\n",
       "      <td>6</td>\n",
       "      <td>17</td>\n",
       "      <td>12</td>\n",
       "      <td>1224</td>\n",
       "    </tr>\n",
       "  </tbody>\n",
       "</table>\n",
       "</div>"
      ],
      "text/plain": [
       "   id                  reds                  blues               greens  \\\n",
       "0   1  [18, 15, 17, 11, 18]    [7, 4, 6, 1, 14, 8]      [8, 1, 2, 5, 1]   \n",
       "1   2             [3, 2, 3]           [16, 13, 16]          [12, 8, 15]   \n",
       "2   3            [15, 4, 7]                 [7, 9]            [6, 1, 8]   \n",
       "3   4        [8, 11, 12, 9]        [2, 5, 5, 1, 2]               [1, 1]   \n",
       "4   5       [3, 4, 5, 6, 6]  [9, 17, 15, 3, 4, 10]  [12, 3, 2, 5, 7, 3]   \n",
       "\n",
       "   max_reds  max_blues  max_greens  power  \n",
       "0        18         14           8   2016  \n",
       "1         3         16          15    720  \n",
       "2        15          9           8   1080  \n",
       "3        12          5           1     60  \n",
       "4         6         17          12   1224  "
      ]
     },
     "execution_count": 44,
     "metadata": {},
     "output_type": "execute_result"
    }
   ],
   "source": [
    "games_df.head()"
   ]
  },
  {
   "cell_type": "code",
   "execution_count": 45,
   "metadata": {},
   "outputs": [
    {
     "data": {
      "text/plain": [
       "71585"
      ]
     },
     "execution_count": 45,
     "metadata": {},
     "output_type": "execute_result"
    }
   ],
   "source": [
    "games_df.power.sum()"
   ]
  },
  {
   "cell_type": "code",
   "execution_count": null,
   "metadata": {},
   "outputs": [],
   "source": []
  }
 ],
 "metadata": {
  "kernelspec": {
   "display_name": "Python 3",
   "language": "python",
   "name": "python3"
  },
  "language_info": {
   "codemirror_mode": {
    "name": "ipython",
    "version": 3
   },
   "file_extension": ".py",
   "mimetype": "text/x-python",
   "name": "python",
   "nbconvert_exporter": "python",
   "pygments_lexer": "ipython3",
   "version": "3.9.6"
  }
 },
 "nbformat": 4,
 "nbformat_minor": 2
}

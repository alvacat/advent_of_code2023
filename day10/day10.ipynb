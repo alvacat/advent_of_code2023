{
 "cells": [
  {
   "cell_type": "code",
   "execution_count": 1,
   "metadata": {},
   "outputs": [],
   "source": [
    "import numpy as np"
   ]
  },
  {
   "cell_type": "code",
   "execution_count": 12,
   "metadata": {},
   "outputs": [],
   "source": [
    "h = open('input.txt','r')\n",
    "path_array=[]\n",
    "for line in h:\n",
    "    current_line = []\n",
    "    for character in line:\n",
    "        if character!='\\n':\n",
    "            current_line.append(character)\n",
    "    path_array.append(current_line)\n",
    "path_array = np.array(path_array)"
   ]
  },
  {
   "cell_type": "code",
   "execution_count": 14,
   "metadata": {},
   "outputs": [
    {
     "data": {
      "text/plain": [
       "array([['.', '.', 'F', ..., 'J', 'F', 'L'],\n",
       "       ['L', '-', '7', ..., '|', '|', '7'],\n",
       "       ['L', 'F', 'L', ..., 'L', 'J', '7'],\n",
       "       ...,\n",
       "       ['J', '|', '7', ..., '-', '.', '7'],\n",
       "       ['|', 'L', '-', ..., 'F', 'J', '.'],\n",
       "       ['F', 'J', 'L', ..., 'J', 'J', 'J']], dtype='<U1')"
      ]
     },
     "execution_count": 14,
     "metadata": {},
     "output_type": "execute_result"
    }
   ],
   "source": [
    "path_array"
   ]
  },
  {
   "cell_type": "code",
   "execution_count": 50,
   "metadata": {},
   "outputs": [],
   "source": [
    "#Where's the start?\n",
    "starting_position = np.where(path_array == 'S')"
   ]
  },
  {
   "cell_type": "code",
   "execution_count": 47,
   "metadata": {},
   "outputs": [],
   "source": [
    "starting_position = np.array(starting_position[0]),np.array(111)"
   ]
  },
  {
   "cell_type": "code",
   "execution_count": 48,
   "metadata": {},
   "outputs": [
    {
     "data": {
      "text/plain": [
       "array(['S'], dtype='<U1')"
      ]
     },
     "execution_count": 48,
     "metadata": {},
     "output_type": "execute_result"
    }
   ],
   "source": [
    "path_array[starting_position] #up/down, left/right"
   ]
  },
  {
   "cell_type": "code",
   "execution_count": 64,
   "metadata": {},
   "outputs": [],
   "source": [
    "def move_this_direction_next(previous_position,current_position):\n",
    "    current_symbol = path_array[current_position]\n",
    "\n",
    "    go_north = (np.array(current_position[0]-1), np.array(current_position[1]))\n",
    "    go_south = (np.array(current_position[0]+1), np.array(current_position[1]))\n",
    "    go_east = (np.array(current_position[0]), np.array(current_position[1]+1))\n",
    "    go_west = (np.array(current_position[0]), np.array(current_position[1]-1))\n",
    "\n",
    "    north = -1\n",
    "    south = -1\n",
    "    east = -1\n",
    "    west = -1\n",
    "\n",
    "    if go_north[0]<140 and go_north[1]<140:\n",
    "        north = path_array[go_north]\n",
    "    if go_south[0]<140 and go_south[1]<140:\n",
    "        south = path_array[go_south]\n",
    "    if go_east[0]<140 and go_east[1]<140:\n",
    "        east = path_array[go_east]\n",
    "    if go_west[0]<140 and go_west[1]<140:\n",
    "        west = path_array[go_west]\n",
    "\n",
    "    if current_symbol == 'S':\n",
    "        if north in ('7','F','|'):\n",
    "            next_position = go_north\n",
    "        elif south in ('L','J','|'):\n",
    "            next_position = go_south\n",
    "        elif east in ('J','7','-'):\n",
    "            next_position = go_east\n",
    "        elif west in ('L','F','-'):\n",
    "            next_position = go_west\n",
    "    \n",
    "    elif current_symbol == '.':\n",
    "        print('Red Alert! Hit the ground!')\n",
    "    \n",
    "    elif current_symbol == '-':\n",
    "        if previous_position == go_west:\n",
    "            next_position = go_east\n",
    "        else:\n",
    "            next_position = go_west\n",
    "\n",
    "    elif current_symbol == '|':\n",
    "        if previous_position == go_north:\n",
    "            next_position = go_south\n",
    "        else:\n",
    "            next_position = go_north\n",
    "\n",
    "    elif current_symbol == 'J':\n",
    "        if previous_position == go_west:\n",
    "            next_position = go_north\n",
    "        else:\n",
    "            next_position = go_west\n",
    "\n",
    "    elif current_symbol == 'F':\n",
    "        if previous_position == go_east:\n",
    "            next_position = go_south\n",
    "        else:\n",
    "            next_position = go_east\n",
    "\n",
    "    elif current_symbol == 'L':\n",
    "        if previous_position == go_east:\n",
    "            next_position = go_north\n",
    "        else:\n",
    "            next_position = go_east\n",
    "\n",
    "    elif current_symbol == '7':\n",
    "        if previous_position == go_west:\n",
    "            next_position = go_south\n",
    "        else:\n",
    "            next_position = go_west\n",
    "    else:\n",
    "        print(\"I have no idea what happened\")\n",
    "    \n",
    "    return next_position\n",
    "\n"
   ]
  },
  {
   "cell_type": "code",
   "execution_count": 65,
   "metadata": {},
   "outputs": [
    {
     "data": {
      "text/plain": [
       "(array([30]), array([111]))"
      ]
     },
     "execution_count": 65,
     "metadata": {},
     "output_type": "execute_result"
    }
   ],
   "source": [
    "move_this_direction_next(None,starting_position)"
   ]
  },
  {
   "cell_type": "code",
   "execution_count": 57,
   "metadata": {},
   "outputs": [
    {
     "data": {
      "text/plain": [
       "'F'"
      ]
     },
     "execution_count": 57,
     "metadata": {},
     "output_type": "execute_result"
    }
   ],
   "source": [
    "path_array[30,111]"
   ]
  },
  {
   "cell_type": "code",
   "execution_count": 66,
   "metadata": {},
   "outputs": [
    {
     "data": {
      "text/plain": [
       "(array([30]), array([112]))"
      ]
     },
     "execution_count": 66,
     "metadata": {},
     "output_type": "execute_result"
    }
   ],
   "source": [
    "next_step = move_this_direction_next(None,starting_position)\n",
    "move_this_direction_next(starting_position,next_step)"
   ]
  },
  {
   "cell_type": "code",
   "execution_count": 59,
   "metadata": {},
   "outputs": [
    {
     "data": {
      "text/plain": [
       "'J'"
      ]
     },
     "execution_count": 59,
     "metadata": {},
     "output_type": "execute_result"
    }
   ],
   "source": [
    "path_array[30,112]"
   ]
  },
  {
   "cell_type": "code",
   "execution_count": 67,
   "metadata": {},
   "outputs": [
    {
     "name": "stdout",
     "output_type": "stream",
     "text": [
      "13894\n"
     ]
    }
   ],
   "source": [
    "starting_position = np.where(path_array == 'S')\n",
    "current_position = starting_position\n",
    "previous_position = None\n",
    "step_counter = 0\n",
    "\n",
    "while current_position!=starting_position or step_counter==0:\n",
    "    next_step = move_this_direction_next(previous_position,current_position)\n",
    "    previous_position = current_position\n",
    "    current_position = next_step\n",
    "    step_counter+=1\n",
    "\n",
    "print(step_counter)"
   ]
  },
  {
   "cell_type": "code",
   "execution_count": 68,
   "metadata": {},
   "outputs": [
    {
     "data": {
      "text/plain": [
       "6947.0"
      ]
     },
     "execution_count": 68,
     "metadata": {},
     "output_type": "execute_result"
    }
   ],
   "source": [
    "step_counter/2"
   ]
  },
  {
   "cell_type": "code",
   "execution_count": null,
   "metadata": {},
   "outputs": [],
   "source": []
  }
 ],
 "metadata": {
  "kernelspec": {
   "display_name": "Python 3",
   "language": "python",
   "name": "python3"
  },
  "language_info": {
   "codemirror_mode": {
    "name": "ipython",
    "version": 3
   },
   "file_extension": ".py",
   "mimetype": "text/x-python",
   "name": "python",
   "nbconvert_exporter": "python",
   "pygments_lexer": "ipython3",
   "version": "3.9.6"
  }
 },
 "nbformat": 4,
 "nbformat_minor": 2
}
